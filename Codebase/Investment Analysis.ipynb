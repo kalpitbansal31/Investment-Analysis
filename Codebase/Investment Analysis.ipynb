{
 "cells": [
  {
   "cell_type": "code",
   "execution_count": 60,
   "id": "be0ff3ba",
   "metadata": {},
   "outputs": [],
   "source": [
    "import pandas as pd\n",
    "import numpy as np\n",
    "import matplotlib.pyplot as plt\n",
    "import seaborn as sns\n",
    "from sklearn.model_selection import train_test_split\n",
    "from sklearn.metrics import accuracy_score\n",
    "from sklearn.metrics import confusion_matrix"
   ]
  },
  {
   "cell_type": "code",
   "execution_count": 61,
   "id": "1f4254a5",
   "metadata": {},
   "outputs": [],
   "source": [
    "rounds = pd.read_csv(\"rounds2.csv\", encoding = \"ISO-8859-1\")\n",
    "companies=pd.read_csv(\"companies2.csv\", encoding = \"ISO-8859-1\")\n",
    "mapping = pd.read_csv(\"mapping.csv\", encoding = \"ISO-8859-1\")"
   ]
  },
  {
   "cell_type": "code",
   "execution_count": 62,
   "id": "9189a338",
   "metadata": {},
   "outputs": [
    {
     "data": {
      "text/html": [
       "<div>\n",
       "<style scoped>\n",
       "    .dataframe tbody tr th:only-of-type {\n",
       "        vertical-align: middle;\n",
       "    }\n",
       "\n",
       "    .dataframe tbody tr th {\n",
       "        vertical-align: top;\n",
       "    }\n",
       "\n",
       "    .dataframe thead th {\n",
       "        text-align: right;\n",
       "    }\n",
       "</style>\n",
       "<table border=\"1\" class=\"dataframe\">\n",
       "  <thead>\n",
       "    <tr style=\"text-align: right;\">\n",
       "      <th></th>\n",
       "      <th>ï»¿company_permalink</th>\n",
       "      <th>funding_round_permalink</th>\n",
       "      <th>funding_round_type</th>\n",
       "      <th>funding_round_code</th>\n",
       "      <th>funded_at</th>\n",
       "      <th>raised_amount_usd</th>\n",
       "    </tr>\n",
       "  </thead>\n",
       "  <tbody>\n",
       "    <tr>\n",
       "      <th>0</th>\n",
       "      <td>/organization/-fame</td>\n",
       "      <td>/funding-round/9a01d05418af9f794eebff7ace91f638</td>\n",
       "      <td>venture</td>\n",
       "      <td>B</td>\n",
       "      <td>05-01-2015</td>\n",
       "      <td>10000000.0</td>\n",
       "    </tr>\n",
       "    <tr>\n",
       "      <th>1</th>\n",
       "      <td>/ORGANIZATION/-QOUNTER</td>\n",
       "      <td>/funding-round/22dacff496eb7acb2b901dec1dfe5633</td>\n",
       "      <td>venture</td>\n",
       "      <td>A</td>\n",
       "      <td>14-10-2014</td>\n",
       "      <td>NaN</td>\n",
       "    </tr>\n",
       "    <tr>\n",
       "      <th>2</th>\n",
       "      <td>/organization/-qounter</td>\n",
       "      <td>/funding-round/b44fbb94153f6cdef13083530bb48030</td>\n",
       "      <td>seed</td>\n",
       "      <td>NaN</td>\n",
       "      <td>01-03-2014</td>\n",
       "      <td>700000.0</td>\n",
       "    </tr>\n",
       "    <tr>\n",
       "      <th>3</th>\n",
       "      <td>/ORGANIZATION/-THE-ONE-OF-THEM-INC-</td>\n",
       "      <td>/funding-round/650b8f704416801069bb178a1418776b</td>\n",
       "      <td>venture</td>\n",
       "      <td>B</td>\n",
       "      <td>30-01-2014</td>\n",
       "      <td>3406878.0</td>\n",
       "    </tr>\n",
       "    <tr>\n",
       "      <th>4</th>\n",
       "      <td>/organization/0-6-com</td>\n",
       "      <td>/funding-round/5727accaeaa57461bd22a9bdd945382d</td>\n",
       "      <td>venture</td>\n",
       "      <td>A</td>\n",
       "      <td>19-03-2008</td>\n",
       "      <td>2000000.0</td>\n",
       "    </tr>\n",
       "  </tbody>\n",
       "</table>\n",
       "</div>"
      ],
      "text/plain": [
       "                  ï»¿company_permalink  \\\n",
       "0                  /organization/-fame   \n",
       "1               /ORGANIZATION/-QOUNTER   \n",
       "2               /organization/-qounter   \n",
       "3  /ORGANIZATION/-THE-ONE-OF-THEM-INC-   \n",
       "4                /organization/0-6-com   \n",
       "\n",
       "                           funding_round_permalink funding_round_type  \\\n",
       "0  /funding-round/9a01d05418af9f794eebff7ace91f638            venture   \n",
       "1  /funding-round/22dacff496eb7acb2b901dec1dfe5633            venture   \n",
       "2  /funding-round/b44fbb94153f6cdef13083530bb48030               seed   \n",
       "3  /funding-round/650b8f704416801069bb178a1418776b            venture   \n",
       "4  /funding-round/5727accaeaa57461bd22a9bdd945382d            venture   \n",
       "\n",
       "  funding_round_code   funded_at  raised_amount_usd  \n",
       "0                  B  05-01-2015         10000000.0  \n",
       "1                  A  14-10-2014                NaN  \n",
       "2                NaN  01-03-2014           700000.0  \n",
       "3                  B  30-01-2014          3406878.0  \n",
       "4                  A  19-03-2008          2000000.0  "
      ]
     },
     "execution_count": 62,
     "metadata": {},
     "output_type": "execute_result"
    }
   ],
   "source": [
    "#printing first five values of rounds dataset\n",
    "rounds.head()"
   ]
  },
  {
   "cell_type": "code",
   "execution_count": 63,
   "id": "5b3c6fdc",
   "metadata": {},
   "outputs": [
    {
     "data": {
      "text/plain": [
       "ï»¿company_permalink        object\n",
       "funding_round_permalink     object\n",
       "funding_round_type          object\n",
       "funding_round_code          object\n",
       "funded_at                   object\n",
       "raised_amount_usd          float64\n",
       "dtype: object"
      ]
     },
     "execution_count": 63,
     "metadata": {},
     "output_type": "execute_result"
    }
   ],
   "source": [
    "rounds.dtypes\n"
   ]
  },
  {
   "cell_type": "code",
   "execution_count": 64,
   "id": "321a1eb5",
   "metadata": {},
   "outputs": [],
   "source": [
    "rounds.rename(columns = {'ï»¿company_permalink':'Company_Link'}, inplace = True)\n"
   ]
  },
  {
   "cell_type": "code",
   "execution_count": 65,
   "id": "f1a4d8cd",
   "metadata": {},
   "outputs": [],
   "source": [
    "rounds['Company_Link'] = rounds['Company_Link'].str.lower()\n"
   ]
  },
  {
   "cell_type": "code",
   "execution_count": 66,
   "id": "565d285f",
   "metadata": {},
   "outputs": [
    {
     "data": {
      "text/plain": [
       "66373"
      ]
     },
     "execution_count": 66,
     "metadata": {},
     "output_type": "execute_result"
    }
   ],
   "source": [
    "rounds['Company_Link'].nunique()\n"
   ]
  },
  {
   "cell_type": "code",
   "execution_count": 67,
   "id": "8b78a116",
   "metadata": {},
   "outputs": [
    {
     "data": {
      "text/html": [
       "<div>\n",
       "<style scoped>\n",
       "    .dataframe tbody tr th:only-of-type {\n",
       "        vertical-align: middle;\n",
       "    }\n",
       "\n",
       "    .dataframe tbody tr th {\n",
       "        vertical-align: top;\n",
       "    }\n",
       "\n",
       "    .dataframe thead th {\n",
       "        text-align: right;\n",
       "    }\n",
       "</style>\n",
       "<table border=\"1\" class=\"dataframe\">\n",
       "  <thead>\n",
       "    <tr style=\"text-align: right;\">\n",
       "      <th></th>\n",
       "      <th>ï»¿permalink</th>\n",
       "      <th>name</th>\n",
       "      <th>homepage_url</th>\n",
       "      <th>category_list</th>\n",
       "      <th>status</th>\n",
       "      <th>country_code</th>\n",
       "      <th>state_code</th>\n",
       "      <th>region</th>\n",
       "      <th>city</th>\n",
       "      <th>founded_at</th>\n",
       "    </tr>\n",
       "  </thead>\n",
       "  <tbody>\n",
       "    <tr>\n",
       "      <th>0</th>\n",
       "      <td>/Organization/-Fame</td>\n",
       "      <td>#fame</td>\n",
       "      <td>http://livfame.com</td>\n",
       "      <td>Media</td>\n",
       "      <td>operating</td>\n",
       "      <td>IND</td>\n",
       "      <td>16</td>\n",
       "      <td>Mumbai</td>\n",
       "      <td>Mumbai</td>\n",
       "      <td>NaN</td>\n",
       "    </tr>\n",
       "    <tr>\n",
       "      <th>1</th>\n",
       "      <td>/Organization/-Qounter</td>\n",
       "      <td>:Qounter</td>\n",
       "      <td>http://www.qounter.com</td>\n",
       "      <td>Application Platforms|Real Time|Social Network...</td>\n",
       "      <td>operating</td>\n",
       "      <td>USA</td>\n",
       "      <td>DE</td>\n",
       "      <td>DE - Other</td>\n",
       "      <td>Delaware City</td>\n",
       "      <td>04-09-2014</td>\n",
       "    </tr>\n",
       "    <tr>\n",
       "      <th>2</th>\n",
       "      <td>/Organization/-The-One-Of-Them-Inc-</td>\n",
       "      <td>(THE) ONE of THEM,Inc.</td>\n",
       "      <td>http://oneofthem.jp</td>\n",
       "      <td>Apps|Games|Mobile</td>\n",
       "      <td>operating</td>\n",
       "      <td>NaN</td>\n",
       "      <td>NaN</td>\n",
       "      <td>NaN</td>\n",
       "      <td>NaN</td>\n",
       "      <td>NaN</td>\n",
       "    </tr>\n",
       "    <tr>\n",
       "      <th>3</th>\n",
       "      <td>/Organization/0-6-Com</td>\n",
       "      <td>0-6.com</td>\n",
       "      <td>http://www.0-6.com</td>\n",
       "      <td>Curated Web</td>\n",
       "      <td>operating</td>\n",
       "      <td>CHN</td>\n",
       "      <td>22</td>\n",
       "      <td>Beijing</td>\n",
       "      <td>Beijing</td>\n",
       "      <td>01-01-2007</td>\n",
       "    </tr>\n",
       "    <tr>\n",
       "      <th>4</th>\n",
       "      <td>/Organization/004-Technologies</td>\n",
       "      <td>004 Technologies</td>\n",
       "      <td>http://004gmbh.de/en/004-interact</td>\n",
       "      <td>Software</td>\n",
       "      <td>operating</td>\n",
       "      <td>USA</td>\n",
       "      <td>IL</td>\n",
       "      <td>Springfield, Illinois</td>\n",
       "      <td>Champaign</td>\n",
       "      <td>01-01-2010</td>\n",
       "    </tr>\n",
       "  </tbody>\n",
       "</table>\n",
       "</div>"
      ],
      "text/plain": [
       "                          ï»¿permalink                    name  \\\n",
       "0                  /Organization/-Fame                   #fame   \n",
       "1               /Organization/-Qounter                :Qounter   \n",
       "2  /Organization/-The-One-Of-Them-Inc-  (THE) ONE of THEM,Inc.   \n",
       "3                /Organization/0-6-Com                 0-6.com   \n",
       "4       /Organization/004-Technologies        004 Technologies   \n",
       "\n",
       "                        homepage_url  \\\n",
       "0                 http://livfame.com   \n",
       "1             http://www.qounter.com   \n",
       "2                http://oneofthem.jp   \n",
       "3                 http://www.0-6.com   \n",
       "4  http://004gmbh.de/en/004-interact   \n",
       "\n",
       "                                       category_list     status country_code  \\\n",
       "0                                              Media  operating          IND   \n",
       "1  Application Platforms|Real Time|Social Network...  operating          USA   \n",
       "2                                  Apps|Games|Mobile  operating          NaN   \n",
       "3                                        Curated Web  operating          CHN   \n",
       "4                                           Software  operating          USA   \n",
       "\n",
       "  state_code                 region           city  founded_at  \n",
       "0         16                 Mumbai         Mumbai         NaN  \n",
       "1         DE             DE - Other  Delaware City  04-09-2014  \n",
       "2        NaN                    NaN            NaN         NaN  \n",
       "3         22                Beijing        Beijing  01-01-2007  \n",
       "4         IL  Springfield, Illinois      Champaign  01-01-2010  "
      ]
     },
     "execution_count": 67,
     "metadata": {},
     "output_type": "execute_result"
    }
   ],
   "source": [
    "companies.head()\n"
   ]
  },
  {
   "cell_type": "code",
   "execution_count": 68,
   "id": "86a6891e",
   "metadata": {},
   "outputs": [],
   "source": [
    "companies.rename(columns = {'ï»¿permalink':'Company_Link'}, inplace = True)\n"
   ]
  },
  {
   "cell_type": "code",
   "execution_count": 69,
   "id": "bdd5e3ad",
   "metadata": {},
   "outputs": [],
   "source": [
    "companies['Company_Link'] = companies['Company_Link'].str.lower()\n"
   ]
  },
  {
   "cell_type": "code",
   "execution_count": 70,
   "id": "79e4d83a",
   "metadata": {},
   "outputs": [
    {
     "data": {
      "text/plain": [
       "66368"
      ]
     },
     "execution_count": 70,
     "metadata": {},
     "output_type": "execute_result"
    }
   ],
   "source": [
    "companies['Company_Link'].nunique()\n"
   ]
  },
  {
   "cell_type": "code",
   "execution_count": 71,
   "id": "835f67c6",
   "metadata": {},
   "outputs": [
    {
     "data": {
      "text/plain": [
       "66368"
      ]
     },
     "execution_count": 71,
     "metadata": {},
     "output_type": "execute_result"
    }
   ],
   "source": [
    "companies['Company_Link'].count()\n"
   ]
  },
  {
   "cell_type": "code",
   "execution_count": 72,
   "id": "76309d96",
   "metadata": {},
   "outputs": [
    {
     "data": {
      "text/plain": [
       "0        1\n",
       "1        1\n",
       "2        1\n",
       "3        1\n",
       "4        1\n",
       "        ..\n",
       "66363    1\n",
       "66364    1\n",
       "66365    0\n",
       "66366    1\n",
       "66367    0\n",
       "Name: Company_Link, Length: 66368, dtype: int32"
      ]
     },
     "execution_count": 72,
     "metadata": {},
     "output_type": "execute_result"
    }
   ],
   "source": [
    "companies.Company_Link.isin(rounds.Company_Link).astype(int)\n"
   ]
  },
  {
   "cell_type": "code",
   "execution_count": 73,
   "id": "1ce8b5bc",
   "metadata": {},
   "outputs": [],
   "source": [
    "companies['category']=companies['category_list'].str.split('|').str[0]\n"
   ]
  },
  {
   "cell_type": "code",
   "execution_count": 74,
   "id": "bf846f2c",
   "metadata": {},
   "outputs": [
    {
     "data": {
      "text/html": [
       "<div>\n",
       "<style scoped>\n",
       "    .dataframe tbody tr th:only-of-type {\n",
       "        vertical-align: middle;\n",
       "    }\n",
       "\n",
       "    .dataframe tbody tr th {\n",
       "        vertical-align: top;\n",
       "    }\n",
       "\n",
       "    .dataframe thead th {\n",
       "        text-align: right;\n",
       "    }\n",
       "</style>\n",
       "<table border=\"1\" class=\"dataframe\">\n",
       "  <thead>\n",
       "    <tr style=\"text-align: right;\">\n",
       "      <th></th>\n",
       "      <th>Company_Link</th>\n",
       "      <th>name</th>\n",
       "      <th>homepage_url</th>\n",
       "      <th>category_list</th>\n",
       "      <th>status</th>\n",
       "      <th>country_code</th>\n",
       "      <th>state_code</th>\n",
       "      <th>region</th>\n",
       "      <th>city</th>\n",
       "      <th>founded_at</th>\n",
       "      <th>category</th>\n",
       "    </tr>\n",
       "  </thead>\n",
       "  <tbody>\n",
       "    <tr>\n",
       "      <th>0</th>\n",
       "      <td>/organization/-fame</td>\n",
       "      <td>#fame</td>\n",
       "      <td>http://livfame.com</td>\n",
       "      <td>Media</td>\n",
       "      <td>operating</td>\n",
       "      <td>IND</td>\n",
       "      <td>16</td>\n",
       "      <td>Mumbai</td>\n",
       "      <td>Mumbai</td>\n",
       "      <td>NaN</td>\n",
       "      <td>Media</td>\n",
       "    </tr>\n",
       "    <tr>\n",
       "      <th>1</th>\n",
       "      <td>/organization/-qounter</td>\n",
       "      <td>:Qounter</td>\n",
       "      <td>http://www.qounter.com</td>\n",
       "      <td>Application Platforms|Real Time|Social Network...</td>\n",
       "      <td>operating</td>\n",
       "      <td>USA</td>\n",
       "      <td>DE</td>\n",
       "      <td>DE - Other</td>\n",
       "      <td>Delaware City</td>\n",
       "      <td>04-09-2014</td>\n",
       "      <td>Application Platforms</td>\n",
       "    </tr>\n",
       "    <tr>\n",
       "      <th>2</th>\n",
       "      <td>/organization/-the-one-of-them-inc-</td>\n",
       "      <td>(THE) ONE of THEM,Inc.</td>\n",
       "      <td>http://oneofthem.jp</td>\n",
       "      <td>Apps|Games|Mobile</td>\n",
       "      <td>operating</td>\n",
       "      <td>NaN</td>\n",
       "      <td>NaN</td>\n",
       "      <td>NaN</td>\n",
       "      <td>NaN</td>\n",
       "      <td>NaN</td>\n",
       "      <td>Apps</td>\n",
       "    </tr>\n",
       "    <tr>\n",
       "      <th>3</th>\n",
       "      <td>/organization/0-6-com</td>\n",
       "      <td>0-6.com</td>\n",
       "      <td>http://www.0-6.com</td>\n",
       "      <td>Curated Web</td>\n",
       "      <td>operating</td>\n",
       "      <td>CHN</td>\n",
       "      <td>22</td>\n",
       "      <td>Beijing</td>\n",
       "      <td>Beijing</td>\n",
       "      <td>01-01-2007</td>\n",
       "      <td>Curated Web</td>\n",
       "    </tr>\n",
       "    <tr>\n",
       "      <th>4</th>\n",
       "      <td>/organization/004-technologies</td>\n",
       "      <td>004 Technologies</td>\n",
       "      <td>http://004gmbh.de/en/004-interact</td>\n",
       "      <td>Software</td>\n",
       "      <td>operating</td>\n",
       "      <td>USA</td>\n",
       "      <td>IL</td>\n",
       "      <td>Springfield, Illinois</td>\n",
       "      <td>Champaign</td>\n",
       "      <td>01-01-2010</td>\n",
       "      <td>Software</td>\n",
       "    </tr>\n",
       "  </tbody>\n",
       "</table>\n",
       "</div>"
      ],
      "text/plain": [
       "                          Company_Link                    name  \\\n",
       "0                  /organization/-fame                   #fame   \n",
       "1               /organization/-qounter                :Qounter   \n",
       "2  /organization/-the-one-of-them-inc-  (THE) ONE of THEM,Inc.   \n",
       "3                /organization/0-6-com                 0-6.com   \n",
       "4       /organization/004-technologies        004 Technologies   \n",
       "\n",
       "                        homepage_url  \\\n",
       "0                 http://livfame.com   \n",
       "1             http://www.qounter.com   \n",
       "2                http://oneofthem.jp   \n",
       "3                 http://www.0-6.com   \n",
       "4  http://004gmbh.de/en/004-interact   \n",
       "\n",
       "                                       category_list     status country_code  \\\n",
       "0                                              Media  operating          IND   \n",
       "1  Application Platforms|Real Time|Social Network...  operating          USA   \n",
       "2                                  Apps|Games|Mobile  operating          NaN   \n",
       "3                                        Curated Web  operating          CHN   \n",
       "4                                           Software  operating          USA   \n",
       "\n",
       "  state_code                 region           city  founded_at  \\\n",
       "0         16                 Mumbai         Mumbai         NaN   \n",
       "1         DE             DE - Other  Delaware City  04-09-2014   \n",
       "2        NaN                    NaN            NaN         NaN   \n",
       "3         22                Beijing        Beijing  01-01-2007   \n",
       "4         IL  Springfield, Illinois      Champaign  01-01-2010   \n",
       "\n",
       "                category  \n",
       "0                  Media  \n",
       "1  Application Platforms  \n",
       "2                   Apps  \n",
       "3            Curated Web  \n",
       "4               Software  "
      ]
     },
     "execution_count": 74,
     "metadata": {},
     "output_type": "execute_result"
    }
   ],
   "source": [
    "companies.head()\n"
   ]
  },
  {
   "cell_type": "code",
   "execution_count": 75,
   "id": "73a25f06",
   "metadata": {},
   "outputs": [],
   "source": [
    "companies['category_list'] = companies['category_list'].str.lower()\n"
   ]
  },
  {
   "cell_type": "code",
   "execution_count": 76,
   "id": "e1090b2d",
   "metadata": {},
   "outputs": [],
   "source": [
    "eng_speaking = companies.country_code.loc[companies['category_list'].str.contains(\"english-speaking\",na=False, case=True)].value_counts()\n"
   ]
  },
  {
   "cell_type": "code",
   "execution_count": 77,
   "id": "12b27868",
   "metadata": {},
   "outputs": [
    {
     "name": "stdout",
     "output_type": "stream",
     "text": [
      "USA    2\n",
      "GBR    2\n",
      "JPN    2\n",
      "CHN    2\n",
      "SGP    1\n",
      "FRA    1\n",
      "AUS    1\n",
      "ARG    1\n",
      "ISR    1\n",
      "DEU    1\n",
      "Name: country_code, dtype: int64\n"
     ]
    }
   ],
   "source": [
    "print(eng_speaking)\n"
   ]
  },
  {
   "cell_type": "code",
   "execution_count": 78,
   "id": "cac2191d",
   "metadata": {},
   "outputs": [],
   "source": [
    "companies.drop('category_list', inplace=True, axis=1)\n"
   ]
  },
  {
   "cell_type": "code",
   "execution_count": 79,
   "id": "e59c8f7c",
   "metadata": {},
   "outputs": [],
   "source": [
    "master_frame = pd.merge(rounds,companies,on='Company_Link')\n"
   ]
  },
  {
   "cell_type": "code",
   "execution_count": 80,
   "id": "e3db2137",
   "metadata": {},
   "outputs": [
    {
     "data": {
      "text/plain": [
       "Company_Link                object\n",
       "funding_round_permalink     object\n",
       "funding_round_type          object\n",
       "funding_round_code          object\n",
       "funded_at                   object\n",
       "raised_amount_usd          float64\n",
       "name                        object\n",
       "homepage_url                object\n",
       "status                      object\n",
       "country_code                object\n",
       "state_code                  object\n",
       "region                      object\n",
       "city                        object\n",
       "founded_at                  object\n",
       "category                    object\n",
       "dtype: object"
      ]
     },
     "execution_count": 80,
     "metadata": {},
     "output_type": "execute_result"
    }
   ],
   "source": [
    "master_frame.dtypes\n"
   ]
  },
  {
   "cell_type": "code",
   "execution_count": 81,
   "id": "436322b0",
   "metadata": {},
   "outputs": [],
   "source": [
    "master_frame2 = pd.merge(rounds,companies,on='Company_Link', how='right')\n"
   ]
  },
  {
   "cell_type": "code",
   "execution_count": 82,
   "id": "8895595c",
   "metadata": {},
   "outputs": [
    {
     "data": {
      "text/plain": [
       "(114943, 15)"
      ]
     },
     "execution_count": 82,
     "metadata": {},
     "output_type": "execute_result"
    }
   ],
   "source": [
    "master_frame2.shape\n"
   ]
  },
  {
   "cell_type": "code",
   "execution_count": 83,
   "id": "cc593da0",
   "metadata": {},
   "outputs": [
    {
     "data": {
      "text/plain": [
       "funding_round_type\n",
       "angel                    4.659255e+09\n",
       "convertible_note         2.103126e+09\n",
       "debt_financing           1.138848e+11\n",
       "equity_crowdfunding      6.611162e+08\n",
       "grant                    9.134424e+09\n",
       "non_equity_assistance    3.001782e+07\n",
       "post_ipo_debt            2.564309e+10\n",
       "post_ipo_equity          5.161061e+10\n",
       "private_equity           1.419254e+11\n",
       "product_crowdfunding     5.261686e+08\n",
       "secondary_market         2.389489e+09\n",
       "seed                     1.698986e+10\n",
       "undisclosed              3.044143e+10\n",
       "venture                  5.901262e+11\n",
       "Name: raised_amount_usd, dtype: float64"
      ]
     },
     "execution_count": 83,
     "metadata": {},
     "output_type": "execute_result"
    }
   ],
   "source": [
    "(rounds.groupby(['funding_round_type'])['raised_amount_usd'].sum())\n"
   ]
  },
  {
   "cell_type": "code",
   "execution_count": 84,
   "id": "ee2a994f",
   "metadata": {},
   "outputs": [
    {
     "data": {
      "text/plain": [
       "funding_round_type\n",
       "angel                    9.586945e+05\n",
       "convertible_note         1.453439e+06\n",
       "debt_financing           1.704353e+07\n",
       "equity_crowdfunding      5.383682e+05\n",
       "grant                    4.300576e+06\n",
       "non_equity_assistance    4.112031e+05\n",
       "post_ipo_debt            1.687046e+08\n",
       "post_ipo_equity          8.218249e+07\n",
       "private_equity           7.330859e+07\n",
       "product_crowdfunding     1.363131e+06\n",
       "secondary_market         7.964963e+07\n",
       "seed                     7.198180e+05\n",
       "undisclosed              1.924237e+07\n",
       "venture                  1.174895e+07\n",
       "Name: raised_amount_usd, dtype: float64"
      ]
     },
     "execution_count": 84,
     "metadata": {},
     "output_type": "execute_result"
    }
   ],
   "source": [
    "(rounds.groupby(['funding_round_type'])['raised_amount_usd'].sum())/(rounds.groupby(['funding_round_type'])['raised_amount_usd'].count())\n"
   ]
  },
  {
   "cell_type": "code",
   "execution_count": 85,
   "id": "c081123d",
   "metadata": {},
   "outputs": [
    {
     "data": {
      "text/html": [
       "<div>\n",
       "<style scoped>\n",
       "    .dataframe tbody tr th:only-of-type {\n",
       "        vertical-align: middle;\n",
       "    }\n",
       "\n",
       "    .dataframe tbody tr th {\n",
       "        vertical-align: top;\n",
       "    }\n",
       "\n",
       "    .dataframe thead th {\n",
       "        text-align: right;\n",
       "    }\n",
       "</style>\n",
       "<table border=\"1\" class=\"dataframe\">\n",
       "  <thead>\n",
       "    <tr style=\"text-align: right;\">\n",
       "      <th></th>\n",
       "      <th>Company_Link</th>\n",
       "      <th>funding_round_permalink</th>\n",
       "      <th>funding_round_type</th>\n",
       "      <th>funding_round_code</th>\n",
       "      <th>funded_at</th>\n",
       "      <th>raised_amount_usd</th>\n",
       "      <th>name</th>\n",
       "      <th>homepage_url</th>\n",
       "      <th>status</th>\n",
       "      <th>country_code</th>\n",
       "      <th>state_code</th>\n",
       "      <th>region</th>\n",
       "      <th>city</th>\n",
       "      <th>founded_at</th>\n",
       "      <th>category</th>\n",
       "    </tr>\n",
       "  </thead>\n",
       "  <tbody>\n",
       "    <tr>\n",
       "      <th>0</th>\n",
       "      <td>/organization/-fame</td>\n",
       "      <td>/funding-round/9a01d05418af9f794eebff7ace91f638</td>\n",
       "      <td>venture</td>\n",
       "      <td>B</td>\n",
       "      <td>05-01-2015</td>\n",
       "      <td>10000000.0</td>\n",
       "      <td>#fame</td>\n",
       "      <td>http://livfame.com</td>\n",
       "      <td>operating</td>\n",
       "      <td>IND</td>\n",
       "      <td>16</td>\n",
       "      <td>Mumbai</td>\n",
       "      <td>Mumbai</td>\n",
       "      <td>NaN</td>\n",
       "      <td>Media</td>\n",
       "    </tr>\n",
       "    <tr>\n",
       "      <th>1</th>\n",
       "      <td>/organization/-qounter</td>\n",
       "      <td>/funding-round/22dacff496eb7acb2b901dec1dfe5633</td>\n",
       "      <td>venture</td>\n",
       "      <td>A</td>\n",
       "      <td>14-10-2014</td>\n",
       "      <td>NaN</td>\n",
       "      <td>:Qounter</td>\n",
       "      <td>http://www.qounter.com</td>\n",
       "      <td>operating</td>\n",
       "      <td>USA</td>\n",
       "      <td>DE</td>\n",
       "      <td>DE - Other</td>\n",
       "      <td>Delaware City</td>\n",
       "      <td>04-09-2014</td>\n",
       "      <td>Application Platforms</td>\n",
       "    </tr>\n",
       "    <tr>\n",
       "      <th>2</th>\n",
       "      <td>/organization/-qounter</td>\n",
       "      <td>/funding-round/b44fbb94153f6cdef13083530bb48030</td>\n",
       "      <td>seed</td>\n",
       "      <td>NaN</td>\n",
       "      <td>01-03-2014</td>\n",
       "      <td>700000.0</td>\n",
       "      <td>:Qounter</td>\n",
       "      <td>http://www.qounter.com</td>\n",
       "      <td>operating</td>\n",
       "      <td>USA</td>\n",
       "      <td>DE</td>\n",
       "      <td>DE - Other</td>\n",
       "      <td>Delaware City</td>\n",
       "      <td>04-09-2014</td>\n",
       "      <td>Application Platforms</td>\n",
       "    </tr>\n",
       "    <tr>\n",
       "      <th>3</th>\n",
       "      <td>/organization/-the-one-of-them-inc-</td>\n",
       "      <td>/funding-round/650b8f704416801069bb178a1418776b</td>\n",
       "      <td>venture</td>\n",
       "      <td>B</td>\n",
       "      <td>30-01-2014</td>\n",
       "      <td>3406878.0</td>\n",
       "      <td>(THE) ONE of THEM,Inc.</td>\n",
       "      <td>http://oneofthem.jp</td>\n",
       "      <td>operating</td>\n",
       "      <td>NaN</td>\n",
       "      <td>NaN</td>\n",
       "      <td>NaN</td>\n",
       "      <td>NaN</td>\n",
       "      <td>NaN</td>\n",
       "      <td>Apps</td>\n",
       "    </tr>\n",
       "    <tr>\n",
       "      <th>4</th>\n",
       "      <td>/organization/0-6-com</td>\n",
       "      <td>/funding-round/5727accaeaa57461bd22a9bdd945382d</td>\n",
       "      <td>venture</td>\n",
       "      <td>A</td>\n",
       "      <td>19-03-2008</td>\n",
       "      <td>2000000.0</td>\n",
       "      <td>0-6.com</td>\n",
       "      <td>http://www.0-6.com</td>\n",
       "      <td>operating</td>\n",
       "      <td>CHN</td>\n",
       "      <td>22</td>\n",
       "      <td>Beijing</td>\n",
       "      <td>Beijing</td>\n",
       "      <td>01-01-2007</td>\n",
       "      <td>Curated Web</td>\n",
       "    </tr>\n",
       "  </tbody>\n",
       "</table>\n",
       "</div>"
      ],
      "text/plain": [
       "                          Company_Link  \\\n",
       "0                  /organization/-fame   \n",
       "1               /organization/-qounter   \n",
       "2               /organization/-qounter   \n",
       "3  /organization/-the-one-of-them-inc-   \n",
       "4                /organization/0-6-com   \n",
       "\n",
       "                           funding_round_permalink funding_round_type  \\\n",
       "0  /funding-round/9a01d05418af9f794eebff7ace91f638            venture   \n",
       "1  /funding-round/22dacff496eb7acb2b901dec1dfe5633            venture   \n",
       "2  /funding-round/b44fbb94153f6cdef13083530bb48030               seed   \n",
       "3  /funding-round/650b8f704416801069bb178a1418776b            venture   \n",
       "4  /funding-round/5727accaeaa57461bd22a9bdd945382d            venture   \n",
       "\n",
       "  funding_round_code   funded_at  raised_amount_usd                    name  \\\n",
       "0                  B  05-01-2015         10000000.0                   #fame   \n",
       "1                  A  14-10-2014                NaN                :Qounter   \n",
       "2                NaN  01-03-2014           700000.0                :Qounter   \n",
       "3                  B  30-01-2014          3406878.0  (THE) ONE of THEM,Inc.   \n",
       "4                  A  19-03-2008          2000000.0                 0-6.com   \n",
       "\n",
       "             homepage_url     status country_code state_code      region  \\\n",
       "0      http://livfame.com  operating          IND         16      Mumbai   \n",
       "1  http://www.qounter.com  operating          USA         DE  DE - Other   \n",
       "2  http://www.qounter.com  operating          USA         DE  DE - Other   \n",
       "3     http://oneofthem.jp  operating          NaN        NaN         NaN   \n",
       "4      http://www.0-6.com  operating          CHN         22     Beijing   \n",
       "\n",
       "            city  founded_at               category  \n",
       "0         Mumbai         NaN                  Media  \n",
       "1  Delaware City  04-09-2014  Application Platforms  \n",
       "2  Delaware City  04-09-2014  Application Platforms  \n",
       "3            NaN         NaN                   Apps  \n",
       "4        Beijing  01-01-2007            Curated Web  "
      ]
     },
     "execution_count": 85,
     "metadata": {},
     "output_type": "execute_result"
    }
   ],
   "source": [
    "master_frame.head()\n"
   ]
  },
  {
   "cell_type": "code",
   "execution_count": 86,
   "id": "c8542751",
   "metadata": {},
   "outputs": [
    {
     "data": {
      "text/plain": [
       "category_list                              object\n",
       "Automotive & Sports                         int64\n",
       "Blanks                                      int64\n",
       "Cleantech / Semiconductors                  int64\n",
       "Entertainment                               int64\n",
       "Health                                      int64\n",
       "Manufacturing                               int64\n",
       "News, Search and Messaging                  int64\n",
       "Others                                      int64\n",
       "Social, Finance, Analytics, Advertising     int64\n",
       "dtype: object"
      ]
     },
     "execution_count": 86,
     "metadata": {},
     "output_type": "execute_result"
    }
   ],
   "source": [
    "mapping.dtypes"
   ]
  },
  {
   "cell_type": "code",
   "execution_count": 87,
   "id": "9e936847",
   "metadata": {},
   "outputs": [],
   "source": [
    "category = pd.get_dummies(mapping).idxmax(1)\n"
   ]
  },
  {
   "cell_type": "code",
   "execution_count": 88,
   "id": "33c86aae",
   "metadata": {},
   "outputs": [
    {
     "name": "stderr",
     "output_type": "stream",
     "text": [
      "C:\\Users\\kalpit\\AppData\\Local\\Temp\\ipykernel_892\\1252479177.py:1: FutureWarning: In a future version of pandas all arguments of DataFrame.drop except for the argument 'labels' will be keyword-only.\n",
      "  mapping.drop(mapping.columns.difference(['category_list']), 1, inplace=True)\n"
     ]
    }
   ],
   "source": [
    "mapping.drop(mapping.columns.difference(['category_list']), 1, inplace=True)\n"
   ]
  },
  {
   "cell_type": "code",
   "execution_count": 89,
   "id": "acf1f107",
   "metadata": {},
   "outputs": [],
   "source": [
    "mapping['category'] = category\n"
   ]
  },
  {
   "cell_type": "code",
   "execution_count": 90,
   "id": "5c6ecb54",
   "metadata": {},
   "outputs": [
    {
     "data": {
      "text/html": [
       "<div>\n",
       "<style scoped>\n",
       "    .dataframe tbody tr th:only-of-type {\n",
       "        vertical-align: middle;\n",
       "    }\n",
       "\n",
       "    .dataframe tbody tr th {\n",
       "        vertical-align: top;\n",
       "    }\n",
       "\n",
       "    .dataframe thead th {\n",
       "        text-align: right;\n",
       "    }\n",
       "</style>\n",
       "<table border=\"1\" class=\"dataframe\">\n",
       "  <thead>\n",
       "    <tr style=\"text-align: right;\">\n",
       "      <th></th>\n",
       "      <th>category_list</th>\n",
       "      <th>category</th>\n",
       "    </tr>\n",
       "  </thead>\n",
       "  <tbody>\n",
       "    <tr>\n",
       "      <th>0</th>\n",
       "      <td>NaN</td>\n",
       "      <td>Blanks</td>\n",
       "    </tr>\n",
       "    <tr>\n",
       "      <th>1</th>\n",
       "      <td>3D</td>\n",
       "      <td>Manufacturing</td>\n",
       "    </tr>\n",
       "    <tr>\n",
       "      <th>2</th>\n",
       "      <td>3D Printing</td>\n",
       "      <td>Manufacturing</td>\n",
       "    </tr>\n",
       "    <tr>\n",
       "      <th>3</th>\n",
       "      <td>3D Technology</td>\n",
       "      <td>Manufacturing</td>\n",
       "    </tr>\n",
       "    <tr>\n",
       "      <th>4</th>\n",
       "      <td>Accounting</td>\n",
       "      <td>Social, Finance, Analytics, Advertising</td>\n",
       "    </tr>\n",
       "  </tbody>\n",
       "</table>\n",
       "</div>"
      ],
      "text/plain": [
       "   category_list                                 category\n",
       "0            NaN                                   Blanks\n",
       "1             3D                            Manufacturing\n",
       "2    3D Printing                            Manufacturing\n",
       "3  3D Technology                            Manufacturing\n",
       "4     Accounting  Social, Finance, Analytics, Advertising"
      ]
     },
     "execution_count": 90,
     "metadata": {},
     "output_type": "execute_result"
    }
   ],
   "source": [
    "mapping.head()\n"
   ]
  },
  {
   "cell_type": "code",
   "execution_count": 91,
   "id": "788be12c",
   "metadata": {},
   "outputs": [],
   "source": [
    "master_frame3 = pd.merge(master_frame,mapping,on='category')\n"
   ]
  },
  {
   "cell_type": "code",
   "execution_count": 104,
   "id": "3960a12a",
   "metadata": {},
   "outputs": [
    {
     "data": {
      "text/plain": [
       "(44927, 16)"
      ]
     },
     "execution_count": 104,
     "metadata": {},
     "output_type": "execute_result"
    }
   ],
   "source": [
    "master_frame3.shape"
   ]
  },
  {
   "cell_type": "code",
   "execution_count": 93,
   "id": "3dafe0fe",
   "metadata": {},
   "outputs": [
    {
     "data": {
      "text/plain": [
       "Company_Link                object\n",
       "funding_round_permalink     object\n",
       "funding_round_type          object\n",
       "funding_round_code          object\n",
       "funded_at                   object\n",
       "raised_amount_usd          float64\n",
       "name                        object\n",
       "homepage_url                object\n",
       "status                      object\n",
       "country_code                object\n",
       "state_code                  object\n",
       "region                      object\n",
       "city                        object\n",
       "founded_at                  object\n",
       "category                    object\n",
       "dtype: object"
      ]
     },
     "execution_count": 93,
     "metadata": {},
     "output_type": "execute_result"
    }
   ],
   "source": [
    "master_frame.dtypes"
   ]
  },
  {
   "cell_type": "code",
   "execution_count": null,
   "id": "564b78e9",
   "metadata": {},
   "outputs": [],
   "source": []
  },
  {
   "cell_type": "code",
   "execution_count": 94,
   "id": "61fadcd7",
   "metadata": {},
   "outputs": [
    {
     "data": {
      "text/plain": [
       "(688, 2)"
      ]
     },
     "execution_count": 94,
     "metadata": {},
     "output_type": "execute_result"
    }
   ],
   "source": [
    "mapping.shape"
   ]
  },
  {
   "cell_type": "code",
   "execution_count": 95,
   "id": "ea190833",
   "metadata": {},
   "outputs": [
    {
     "data": {
      "text/plain": [
       "category_list    object\n",
       "category         object\n",
       "dtype: object"
      ]
     },
     "execution_count": 95,
     "metadata": {},
     "output_type": "execute_result"
    }
   ],
   "source": [
    "mapping.dtypes"
   ]
  },
  {
   "cell_type": "code",
   "execution_count": 96,
   "id": "fcebd9ab",
   "metadata": {},
   "outputs": [
    {
     "data": {
      "text/html": [
       "<div>\n",
       "<style scoped>\n",
       "    .dataframe tbody tr th:only-of-type {\n",
       "        vertical-align: middle;\n",
       "    }\n",
       "\n",
       "    .dataframe tbody tr th {\n",
       "        vertical-align: top;\n",
       "    }\n",
       "\n",
       "    .dataframe thead th {\n",
       "        text-align: right;\n",
       "    }\n",
       "</style>\n",
       "<table border=\"1\" class=\"dataframe\">\n",
       "  <thead>\n",
       "    <tr style=\"text-align: right;\">\n",
       "      <th></th>\n",
       "      <th>Company_Link</th>\n",
       "      <th>funding_round_permalink</th>\n",
       "      <th>funding_round_type</th>\n",
       "      <th>funding_round_code</th>\n",
       "      <th>funded_at</th>\n",
       "      <th>raised_amount_usd</th>\n",
       "      <th>name</th>\n",
       "      <th>homepage_url</th>\n",
       "      <th>status</th>\n",
       "      <th>country_code</th>\n",
       "      <th>state_code</th>\n",
       "      <th>region</th>\n",
       "      <th>city</th>\n",
       "      <th>founded_at</th>\n",
       "      <th>category</th>\n",
       "      <th>category_list</th>\n",
       "    </tr>\n",
       "  </thead>\n",
       "  <tbody>\n",
       "    <tr>\n",
       "      <th>0</th>\n",
       "      <td>/organization/1-4-all</td>\n",
       "      <td>/funding-round/e97a192e13ea0ee3c4f71136b4f3ec16</td>\n",
       "      <td>equity_crowdfunding</td>\n",
       "      <td>NaN</td>\n",
       "      <td>21-04-2013</td>\n",
       "      <td>NaN</td>\n",
       "      <td>1-4 All</td>\n",
       "      <td>NaN</td>\n",
       "      <td>operating</td>\n",
       "      <td>USA</td>\n",
       "      <td>NC</td>\n",
       "      <td>NC - Other</td>\n",
       "      <td>Connellys Springs</td>\n",
       "      <td>NaN</td>\n",
       "      <td>Entertainment</td>\n",
       "      <td>Art</td>\n",
       "    </tr>\n",
       "    <tr>\n",
       "      <th>1</th>\n",
       "      <td>/organization/1-4-all</td>\n",
       "      <td>/funding-round/e97a192e13ea0ee3c4f71136b4f3ec16</td>\n",
       "      <td>equity_crowdfunding</td>\n",
       "      <td>NaN</td>\n",
       "      <td>21-04-2013</td>\n",
       "      <td>NaN</td>\n",
       "      <td>1-4 All</td>\n",
       "      <td>NaN</td>\n",
       "      <td>operating</td>\n",
       "      <td>USA</td>\n",
       "      <td>NC</td>\n",
       "      <td>NC - Other</td>\n",
       "      <td>Connellys Springs</td>\n",
       "      <td>NaN</td>\n",
       "      <td>Entertainment</td>\n",
       "      <td>Artists Globally</td>\n",
       "    </tr>\n",
       "    <tr>\n",
       "      <th>2</th>\n",
       "      <td>/organization/1-4-all</td>\n",
       "      <td>/funding-round/e97a192e13ea0ee3c4f71136b4f3ec16</td>\n",
       "      <td>equity_crowdfunding</td>\n",
       "      <td>NaN</td>\n",
       "      <td>21-04-2013</td>\n",
       "      <td>NaN</td>\n",
       "      <td>1-4 All</td>\n",
       "      <td>NaN</td>\n",
       "      <td>operating</td>\n",
       "      <td>USA</td>\n",
       "      <td>NC</td>\n",
       "      <td>NC - Other</td>\n",
       "      <td>Connellys Springs</td>\n",
       "      <td>NaN</td>\n",
       "      <td>Entertainment</td>\n",
       "      <td>Audio</td>\n",
       "    </tr>\n",
       "    <tr>\n",
       "      <th>3</th>\n",
       "      <td>/organization/1-4-all</td>\n",
       "      <td>/funding-round/e97a192e13ea0ee3c4f71136b4f3ec16</td>\n",
       "      <td>equity_crowdfunding</td>\n",
       "      <td>NaN</td>\n",
       "      <td>21-04-2013</td>\n",
       "      <td>NaN</td>\n",
       "      <td>1-4 All</td>\n",
       "      <td>NaN</td>\n",
       "      <td>operating</td>\n",
       "      <td>USA</td>\n",
       "      <td>NC</td>\n",
       "      <td>NC - Other</td>\n",
       "      <td>Connellys Springs</td>\n",
       "      <td>NaN</td>\n",
       "      <td>Entertainment</td>\n",
       "      <td>Audiobooks</td>\n",
       "    </tr>\n",
       "    <tr>\n",
       "      <th>4</th>\n",
       "      <td>/organization/1-4-all</td>\n",
       "      <td>/funding-round/e97a192e13ea0ee3c4f71136b4f3ec16</td>\n",
       "      <td>equity_crowdfunding</td>\n",
       "      <td>NaN</td>\n",
       "      <td>21-04-2013</td>\n",
       "      <td>NaN</td>\n",
       "      <td>1-4 All</td>\n",
       "      <td>NaN</td>\n",
       "      <td>operating</td>\n",
       "      <td>USA</td>\n",
       "      <td>NC</td>\n",
       "      <td>NC - Other</td>\n",
       "      <td>Connellys Springs</td>\n",
       "      <td>NaN</td>\n",
       "      <td>Entertainment</td>\n",
       "      <td>Brewing</td>\n",
       "    </tr>\n",
       "  </tbody>\n",
       "</table>\n",
       "</div>"
      ],
      "text/plain": [
       "            Company_Link                          funding_round_permalink  \\\n",
       "0  /organization/1-4-all  /funding-round/e97a192e13ea0ee3c4f71136b4f3ec16   \n",
       "1  /organization/1-4-all  /funding-round/e97a192e13ea0ee3c4f71136b4f3ec16   \n",
       "2  /organization/1-4-all  /funding-round/e97a192e13ea0ee3c4f71136b4f3ec16   \n",
       "3  /organization/1-4-all  /funding-round/e97a192e13ea0ee3c4f71136b4f3ec16   \n",
       "4  /organization/1-4-all  /funding-round/e97a192e13ea0ee3c4f71136b4f3ec16   \n",
       "\n",
       "    funding_round_type funding_round_code   funded_at  raised_amount_usd  \\\n",
       "0  equity_crowdfunding                NaN  21-04-2013                NaN   \n",
       "1  equity_crowdfunding                NaN  21-04-2013                NaN   \n",
       "2  equity_crowdfunding                NaN  21-04-2013                NaN   \n",
       "3  equity_crowdfunding                NaN  21-04-2013                NaN   \n",
       "4  equity_crowdfunding                NaN  21-04-2013                NaN   \n",
       "\n",
       "      name homepage_url     status country_code state_code      region  \\\n",
       "0  1-4 All          NaN  operating          USA         NC  NC - Other   \n",
       "1  1-4 All          NaN  operating          USA         NC  NC - Other   \n",
       "2  1-4 All          NaN  operating          USA         NC  NC - Other   \n",
       "3  1-4 All          NaN  operating          USA         NC  NC - Other   \n",
       "4  1-4 All          NaN  operating          USA         NC  NC - Other   \n",
       "\n",
       "                city founded_at       category     category_list  \n",
       "0  Connellys Springs        NaN  Entertainment               Art  \n",
       "1  Connellys Springs        NaN  Entertainment  Artists Globally  \n",
       "2  Connellys Springs        NaN  Entertainment             Audio  \n",
       "3  Connellys Springs        NaN  Entertainment        Audiobooks  \n",
       "4  Connellys Springs        NaN  Entertainment           Brewing  "
      ]
     },
     "execution_count": 96,
     "metadata": {},
     "output_type": "execute_result"
    }
   ],
   "source": [
    "master_frame3.head()"
   ]
  },
  {
   "cell_type": "code",
   "execution_count": 97,
   "id": "6177fef7",
   "metadata": {},
   "outputs": [
    {
     "data": {
      "text/html": [
       "<div>\n",
       "<style scoped>\n",
       "    .dataframe tbody tr th:only-of-type {\n",
       "        vertical-align: middle;\n",
       "    }\n",
       "\n",
       "    .dataframe tbody tr th {\n",
       "        vertical-align: top;\n",
       "    }\n",
       "\n",
       "    .dataframe thead th {\n",
       "        text-align: right;\n",
       "    }\n",
       "</style>\n",
       "<table border=\"1\" class=\"dataframe\">\n",
       "  <thead>\n",
       "    <tr style=\"text-align: right;\">\n",
       "      <th></th>\n",
       "      <th>Company_Link</th>\n",
       "      <th>funding_round_permalink</th>\n",
       "      <th>funding_round_type</th>\n",
       "      <th>funding_round_code</th>\n",
       "      <th>funded_at</th>\n",
       "      <th>raised_amount_usd</th>\n",
       "      <th>name</th>\n",
       "      <th>homepage_url</th>\n",
       "      <th>status</th>\n",
       "      <th>country_code</th>\n",
       "      <th>state_code</th>\n",
       "      <th>region</th>\n",
       "      <th>city</th>\n",
       "      <th>founded_at</th>\n",
       "      <th>category</th>\n",
       "      <th>category_list</th>\n",
       "    </tr>\n",
       "  </thead>\n",
       "  <tbody>\n",
       "    <tr>\n",
       "      <th>0</th>\n",
       "      <td>/organization/1-4-all</td>\n",
       "      <td>/funding-round/e97a192e13ea0ee3c4f71136b4f3ec16</td>\n",
       "      <td>equity_crowdfunding</td>\n",
       "      <td>NaN</td>\n",
       "      <td>21-04-2013</td>\n",
       "      <td>NaN</td>\n",
       "      <td>1-4 All</td>\n",
       "      <td>NaN</td>\n",
       "      <td>operating</td>\n",
       "      <td>USA</td>\n",
       "      <td>NC</td>\n",
       "      <td>NC - Other</td>\n",
       "      <td>Connellys Springs</td>\n",
       "      <td>NaN</td>\n",
       "      <td>Entertainment</td>\n",
       "      <td>Art</td>\n",
       "    </tr>\n",
       "    <tr>\n",
       "      <th>1</th>\n",
       "      <td>/organization/1-4-all</td>\n",
       "      <td>/funding-round/e97a192e13ea0ee3c4f71136b4f3ec16</td>\n",
       "      <td>equity_crowdfunding</td>\n",
       "      <td>NaN</td>\n",
       "      <td>21-04-2013</td>\n",
       "      <td>NaN</td>\n",
       "      <td>1-4 All</td>\n",
       "      <td>NaN</td>\n",
       "      <td>operating</td>\n",
       "      <td>USA</td>\n",
       "      <td>NC</td>\n",
       "      <td>NC - Other</td>\n",
       "      <td>Connellys Springs</td>\n",
       "      <td>NaN</td>\n",
       "      <td>Entertainment</td>\n",
       "      <td>Artists Globally</td>\n",
       "    </tr>\n",
       "    <tr>\n",
       "      <th>2</th>\n",
       "      <td>/organization/1-4-all</td>\n",
       "      <td>/funding-round/e97a192e13ea0ee3c4f71136b4f3ec16</td>\n",
       "      <td>equity_crowdfunding</td>\n",
       "      <td>NaN</td>\n",
       "      <td>21-04-2013</td>\n",
       "      <td>NaN</td>\n",
       "      <td>1-4 All</td>\n",
       "      <td>NaN</td>\n",
       "      <td>operating</td>\n",
       "      <td>USA</td>\n",
       "      <td>NC</td>\n",
       "      <td>NC - Other</td>\n",
       "      <td>Connellys Springs</td>\n",
       "      <td>NaN</td>\n",
       "      <td>Entertainment</td>\n",
       "      <td>Audio</td>\n",
       "    </tr>\n",
       "    <tr>\n",
       "      <th>3</th>\n",
       "      <td>/organization/1-4-all</td>\n",
       "      <td>/funding-round/e97a192e13ea0ee3c4f71136b4f3ec16</td>\n",
       "      <td>equity_crowdfunding</td>\n",
       "      <td>NaN</td>\n",
       "      <td>21-04-2013</td>\n",
       "      <td>NaN</td>\n",
       "      <td>1-4 All</td>\n",
       "      <td>NaN</td>\n",
       "      <td>operating</td>\n",
       "      <td>USA</td>\n",
       "      <td>NC</td>\n",
       "      <td>NC - Other</td>\n",
       "      <td>Connellys Springs</td>\n",
       "      <td>NaN</td>\n",
       "      <td>Entertainment</td>\n",
       "      <td>Audiobooks</td>\n",
       "    </tr>\n",
       "    <tr>\n",
       "      <th>4</th>\n",
       "      <td>/organization/1-4-all</td>\n",
       "      <td>/funding-round/e97a192e13ea0ee3c4f71136b4f3ec16</td>\n",
       "      <td>equity_crowdfunding</td>\n",
       "      <td>NaN</td>\n",
       "      <td>21-04-2013</td>\n",
       "      <td>NaN</td>\n",
       "      <td>1-4 All</td>\n",
       "      <td>NaN</td>\n",
       "      <td>operating</td>\n",
       "      <td>USA</td>\n",
       "      <td>NC</td>\n",
       "      <td>NC - Other</td>\n",
       "      <td>Connellys Springs</td>\n",
       "      <td>NaN</td>\n",
       "      <td>Entertainment</td>\n",
       "      <td>Brewing</td>\n",
       "    </tr>\n",
       "  </tbody>\n",
       "</table>\n",
       "</div>"
      ],
      "text/plain": [
       "            Company_Link                          funding_round_permalink  \\\n",
       "0  /organization/1-4-all  /funding-round/e97a192e13ea0ee3c4f71136b4f3ec16   \n",
       "1  /organization/1-4-all  /funding-round/e97a192e13ea0ee3c4f71136b4f3ec16   \n",
       "2  /organization/1-4-all  /funding-round/e97a192e13ea0ee3c4f71136b4f3ec16   \n",
       "3  /organization/1-4-all  /funding-round/e97a192e13ea0ee3c4f71136b4f3ec16   \n",
       "4  /organization/1-4-all  /funding-round/e97a192e13ea0ee3c4f71136b4f3ec16   \n",
       "\n",
       "    funding_round_type funding_round_code   funded_at  raised_amount_usd  \\\n",
       "0  equity_crowdfunding                NaN  21-04-2013                NaN   \n",
       "1  equity_crowdfunding                NaN  21-04-2013                NaN   \n",
       "2  equity_crowdfunding                NaN  21-04-2013                NaN   \n",
       "3  equity_crowdfunding                NaN  21-04-2013                NaN   \n",
       "4  equity_crowdfunding                NaN  21-04-2013                NaN   \n",
       "\n",
       "      name homepage_url     status country_code state_code      region  \\\n",
       "0  1-4 All          NaN  operating          USA         NC  NC - Other   \n",
       "1  1-4 All          NaN  operating          USA         NC  NC - Other   \n",
       "2  1-4 All          NaN  operating          USA         NC  NC - Other   \n",
       "3  1-4 All          NaN  operating          USA         NC  NC - Other   \n",
       "4  1-4 All          NaN  operating          USA         NC  NC - Other   \n",
       "\n",
       "                city founded_at       category     category_list  \n",
       "0  Connellys Springs        NaN  Entertainment               Art  \n",
       "1  Connellys Springs        NaN  Entertainment  Artists Globally  \n",
       "2  Connellys Springs        NaN  Entertainment             Audio  \n",
       "3  Connellys Springs        NaN  Entertainment        Audiobooks  \n",
       "4  Connellys Springs        NaN  Entertainment           Brewing  "
      ]
     },
     "execution_count": 97,
     "metadata": {},
     "output_type": "execute_result"
    }
   ],
   "source": [
    "master_frame3.head()\n"
   ]
  },
  {
   "cell_type": "code",
   "execution_count": 98,
   "id": "fdb7d327",
   "metadata": {},
   "outputs": [
    {
     "data": {
      "text/plain": [
       "(121105, 16)"
      ]
     },
     "execution_count": 98,
     "metadata": {},
     "output_type": "execute_result"
    }
   ],
   "source": [
    "master_frame3.shape\n"
   ]
  },
  {
   "cell_type": "code",
   "execution_count": 99,
   "id": "20bc791c",
   "metadata": {},
   "outputs": [
    {
     "data": {
      "text/html": [
       "<div>\n",
       "<style scoped>\n",
       "    .dataframe tbody tr th:only-of-type {\n",
       "        vertical-align: middle;\n",
       "    }\n",
       "\n",
       "    .dataframe tbody tr th {\n",
       "        vertical-align: top;\n",
       "    }\n",
       "\n",
       "    .dataframe thead th {\n",
       "        text-align: right;\n",
       "    }\n",
       "</style>\n",
       "<table border=\"1\" class=\"dataframe\">\n",
       "  <thead>\n",
       "    <tr style=\"text-align: right;\">\n",
       "      <th></th>\n",
       "      <th>Company_Link</th>\n",
       "      <th>funding_round_permalink</th>\n",
       "      <th>funding_round_type</th>\n",
       "      <th>funding_round_code</th>\n",
       "      <th>funded_at</th>\n",
       "      <th>raised_amount_usd</th>\n",
       "      <th>name</th>\n",
       "      <th>homepage_url</th>\n",
       "      <th>status</th>\n",
       "      <th>country_code</th>\n",
       "      <th>state_code</th>\n",
       "      <th>region</th>\n",
       "      <th>city</th>\n",
       "      <th>founded_at</th>\n",
       "      <th>category</th>\n",
       "      <th>category_list</th>\n",
       "    </tr>\n",
       "  </thead>\n",
       "  <tbody>\n",
       "    <tr>\n",
       "      <th>89</th>\n",
       "      <td>/organization/1-of-99</td>\n",
       "      <td>/funding-round/b5c811f561cfb5701cd5b1762120bbc3</td>\n",
       "      <td>convertible_note</td>\n",
       "      <td>NaN</td>\n",
       "      <td>13-12-2014</td>\n",
       "      <td>100000.0</td>\n",
       "      <td>1 of 99</td>\n",
       "      <td>NaN</td>\n",
       "      <td>operating</td>\n",
       "      <td>USA</td>\n",
       "      <td>CA</td>\n",
       "      <td>SF Bay Area</td>\n",
       "      <td>Mountain View</td>\n",
       "      <td>01-12-2014</td>\n",
       "      <td>Entertainment</td>\n",
       "      <td>Art</td>\n",
       "    </tr>\n",
       "    <tr>\n",
       "      <th>90</th>\n",
       "      <td>/organization/1-of-99</td>\n",
       "      <td>/funding-round/b5c811f561cfb5701cd5b1762120bbc3</td>\n",
       "      <td>convertible_note</td>\n",
       "      <td>NaN</td>\n",
       "      <td>13-12-2014</td>\n",
       "      <td>100000.0</td>\n",
       "      <td>1 of 99</td>\n",
       "      <td>NaN</td>\n",
       "      <td>operating</td>\n",
       "      <td>USA</td>\n",
       "      <td>CA</td>\n",
       "      <td>SF Bay Area</td>\n",
       "      <td>Mountain View</td>\n",
       "      <td>01-12-2014</td>\n",
       "      <td>Entertainment</td>\n",
       "      <td>Artists Globally</td>\n",
       "    </tr>\n",
       "    <tr>\n",
       "      <th>91</th>\n",
       "      <td>/organization/1-of-99</td>\n",
       "      <td>/funding-round/b5c811f561cfb5701cd5b1762120bbc3</td>\n",
       "      <td>convertible_note</td>\n",
       "      <td>NaN</td>\n",
       "      <td>13-12-2014</td>\n",
       "      <td>100000.0</td>\n",
       "      <td>1 of 99</td>\n",
       "      <td>NaN</td>\n",
       "      <td>operating</td>\n",
       "      <td>USA</td>\n",
       "      <td>CA</td>\n",
       "      <td>SF Bay Area</td>\n",
       "      <td>Mountain View</td>\n",
       "      <td>01-12-2014</td>\n",
       "      <td>Entertainment</td>\n",
       "      <td>Audio</td>\n",
       "    </tr>\n",
       "    <tr>\n",
       "      <th>92</th>\n",
       "      <td>/organization/1-of-99</td>\n",
       "      <td>/funding-round/b5c811f561cfb5701cd5b1762120bbc3</td>\n",
       "      <td>convertible_note</td>\n",
       "      <td>NaN</td>\n",
       "      <td>13-12-2014</td>\n",
       "      <td>100000.0</td>\n",
       "      <td>1 of 99</td>\n",
       "      <td>NaN</td>\n",
       "      <td>operating</td>\n",
       "      <td>USA</td>\n",
       "      <td>CA</td>\n",
       "      <td>SF Bay Area</td>\n",
       "      <td>Mountain View</td>\n",
       "      <td>01-12-2014</td>\n",
       "      <td>Entertainment</td>\n",
       "      <td>Audiobooks</td>\n",
       "    </tr>\n",
       "    <tr>\n",
       "      <th>93</th>\n",
       "      <td>/organization/1-of-99</td>\n",
       "      <td>/funding-round/b5c811f561cfb5701cd5b1762120bbc3</td>\n",
       "      <td>convertible_note</td>\n",
       "      <td>NaN</td>\n",
       "      <td>13-12-2014</td>\n",
       "      <td>100000.0</td>\n",
       "      <td>1 of 99</td>\n",
       "      <td>NaN</td>\n",
       "      <td>operating</td>\n",
       "      <td>USA</td>\n",
       "      <td>CA</td>\n",
       "      <td>SF Bay Area</td>\n",
       "      <td>Mountain View</td>\n",
       "      <td>01-12-2014</td>\n",
       "      <td>Entertainment</td>\n",
       "      <td>Brewing</td>\n",
       "    </tr>\n",
       "    <tr>\n",
       "      <th>...</th>\n",
       "      <td>...</td>\n",
       "      <td>...</td>\n",
       "      <td>...</td>\n",
       "      <td>...</td>\n",
       "      <td>...</td>\n",
       "      <td>...</td>\n",
       "      <td>...</td>\n",
       "      <td>...</td>\n",
       "      <td>...</td>\n",
       "      <td>...</td>\n",
       "      <td>...</td>\n",
       "      <td>...</td>\n",
       "      <td>...</td>\n",
       "      <td>...</td>\n",
       "      <td>...</td>\n",
       "      <td>...</td>\n",
       "    </tr>\n",
       "    <tr>\n",
       "      <th>121100</th>\n",
       "      <td>/organization/zygo-corporation</td>\n",
       "      <td>/funding-round/d2c6bee0114056f3018667a9b5ab13ba</td>\n",
       "      <td>venture</td>\n",
       "      <td>NaN</td>\n",
       "      <td>24-10-2011</td>\n",
       "      <td>9000000.0</td>\n",
       "      <td>Zygo Corporation</td>\n",
       "      <td>http://www.zygo.com</td>\n",
       "      <td>acquired</td>\n",
       "      <td>USA</td>\n",
       "      <td>CT</td>\n",
       "      <td>CT - Other</td>\n",
       "      <td>Middlefield</td>\n",
       "      <td>NaN</td>\n",
       "      <td>Manufacturing</td>\n",
       "      <td>Mobile Software Tools</td>\n",
       "    </tr>\n",
       "    <tr>\n",
       "      <th>121101</th>\n",
       "      <td>/organization/zygo-corporation</td>\n",
       "      <td>/funding-round/d2c6bee0114056f3018667a9b5ab13ba</td>\n",
       "      <td>venture</td>\n",
       "      <td>NaN</td>\n",
       "      <td>24-10-2011</td>\n",
       "      <td>9000000.0</td>\n",
       "      <td>Zygo Corporation</td>\n",
       "      <td>http://www.zygo.com</td>\n",
       "      <td>acquired</td>\n",
       "      <td>USA</td>\n",
       "      <td>CT</td>\n",
       "      <td>CT - Other</td>\n",
       "      <td>Middlefield</td>\n",
       "      <td>NaN</td>\n",
       "      <td>Manufacturing</td>\n",
       "      <td>New Product Development</td>\n",
       "    </tr>\n",
       "    <tr>\n",
       "      <th>121102</th>\n",
       "      <td>/organization/zygo-corporation</td>\n",
       "      <td>/funding-round/d2c6bee0114056f3018667a9b5ab13ba</td>\n",
       "      <td>venture</td>\n",
       "      <td>NaN</td>\n",
       "      <td>24-10-2011</td>\n",
       "      <td>9000000.0</td>\n",
       "      <td>Zygo Corporation</td>\n",
       "      <td>http://www.zygo.com</td>\n",
       "      <td>acquired</td>\n",
       "      <td>USA</td>\n",
       "      <td>CT</td>\n",
       "      <td>CT - Other</td>\n",
       "      <td>Middlefield</td>\n",
       "      <td>NaN</td>\n",
       "      <td>Manufacturing</td>\n",
       "      <td>New Technologies</td>\n",
       "    </tr>\n",
       "    <tr>\n",
       "      <th>121103</th>\n",
       "      <td>/organization/zygo-corporation</td>\n",
       "      <td>/funding-round/d2c6bee0114056f3018667a9b5ab13ba</td>\n",
       "      <td>venture</td>\n",
       "      <td>NaN</td>\n",
       "      <td>24-10-2011</td>\n",
       "      <td>9000000.0</td>\n",
       "      <td>Zygo Corporation</td>\n",
       "      <td>http://www.zygo.com</td>\n",
       "      <td>acquired</td>\n",
       "      <td>USA</td>\n",
       "      <td>CT</td>\n",
       "      <td>CT - Other</td>\n",
       "      <td>Middlefield</td>\n",
       "      <td>NaN</td>\n",
       "      <td>Manufacturing</td>\n",
       "      <td>Optical Communications</td>\n",
       "    </tr>\n",
       "    <tr>\n",
       "      <th>121104</th>\n",
       "      <td>/organization/zygo-corporation</td>\n",
       "      <td>/funding-round/d2c6bee0114056f3018667a9b5ab13ba</td>\n",
       "      <td>venture</td>\n",
       "      <td>NaN</td>\n",
       "      <td>24-10-2011</td>\n",
       "      <td>9000000.0</td>\n",
       "      <td>Zygo Corporation</td>\n",
       "      <td>http://www.zygo.com</td>\n",
       "      <td>acquired</td>\n",
       "      <td>USA</td>\n",
       "      <td>CT</td>\n",
       "      <td>CT - Other</td>\n",
       "      <td>Middlefield</td>\n",
       "      <td>NaN</td>\n",
       "      <td>Manufacturing</td>\n",
       "      <td>Storage</td>\n",
       "    </tr>\n",
       "  </tbody>\n",
       "</table>\n",
       "<p>88483 rows × 16 columns</p>\n",
       "</div>"
      ],
      "text/plain": [
       "                          Company_Link  \\\n",
       "89               /organization/1-of-99   \n",
       "90               /organization/1-of-99   \n",
       "91               /organization/1-of-99   \n",
       "92               /organization/1-of-99   \n",
       "93               /organization/1-of-99   \n",
       "...                                ...   \n",
       "121100  /organization/zygo-corporation   \n",
       "121101  /organization/zygo-corporation   \n",
       "121102  /organization/zygo-corporation   \n",
       "121103  /organization/zygo-corporation   \n",
       "121104  /organization/zygo-corporation   \n",
       "\n",
       "                                funding_round_permalink funding_round_type  \\\n",
       "89      /funding-round/b5c811f561cfb5701cd5b1762120bbc3   convertible_note   \n",
       "90      /funding-round/b5c811f561cfb5701cd5b1762120bbc3   convertible_note   \n",
       "91      /funding-round/b5c811f561cfb5701cd5b1762120bbc3   convertible_note   \n",
       "92      /funding-round/b5c811f561cfb5701cd5b1762120bbc3   convertible_note   \n",
       "93      /funding-round/b5c811f561cfb5701cd5b1762120bbc3   convertible_note   \n",
       "...                                                 ...                ...   \n",
       "121100  /funding-round/d2c6bee0114056f3018667a9b5ab13ba            venture   \n",
       "121101  /funding-round/d2c6bee0114056f3018667a9b5ab13ba            venture   \n",
       "121102  /funding-round/d2c6bee0114056f3018667a9b5ab13ba            venture   \n",
       "121103  /funding-round/d2c6bee0114056f3018667a9b5ab13ba            venture   \n",
       "121104  /funding-round/d2c6bee0114056f3018667a9b5ab13ba            venture   \n",
       "\n",
       "       funding_round_code   funded_at  raised_amount_usd              name  \\\n",
       "89                    NaN  13-12-2014           100000.0           1 of 99   \n",
       "90                    NaN  13-12-2014           100000.0           1 of 99   \n",
       "91                    NaN  13-12-2014           100000.0           1 of 99   \n",
       "92                    NaN  13-12-2014           100000.0           1 of 99   \n",
       "93                    NaN  13-12-2014           100000.0           1 of 99   \n",
       "...                   ...         ...                ...               ...   \n",
       "121100                NaN  24-10-2011          9000000.0  Zygo Corporation   \n",
       "121101                NaN  24-10-2011          9000000.0  Zygo Corporation   \n",
       "121102                NaN  24-10-2011          9000000.0  Zygo Corporation   \n",
       "121103                NaN  24-10-2011          9000000.0  Zygo Corporation   \n",
       "121104                NaN  24-10-2011          9000000.0  Zygo Corporation   \n",
       "\n",
       "               homepage_url     status country_code state_code       region  \\\n",
       "89                      NaN  operating          USA         CA  SF Bay Area   \n",
       "90                      NaN  operating          USA         CA  SF Bay Area   \n",
       "91                      NaN  operating          USA         CA  SF Bay Area   \n",
       "92                      NaN  operating          USA         CA  SF Bay Area   \n",
       "93                      NaN  operating          USA         CA  SF Bay Area   \n",
       "...                     ...        ...          ...        ...          ...   \n",
       "121100  http://www.zygo.com   acquired          USA         CT   CT - Other   \n",
       "121101  http://www.zygo.com   acquired          USA         CT   CT - Other   \n",
       "121102  http://www.zygo.com   acquired          USA         CT   CT - Other   \n",
       "121103  http://www.zygo.com   acquired          USA         CT   CT - Other   \n",
       "121104  http://www.zygo.com   acquired          USA         CT   CT - Other   \n",
       "\n",
       "                 city  founded_at       category            category_list  \n",
       "89      Mountain View  01-12-2014  Entertainment                      Art  \n",
       "90      Mountain View  01-12-2014  Entertainment         Artists Globally  \n",
       "91      Mountain View  01-12-2014  Entertainment                    Audio  \n",
       "92      Mountain View  01-12-2014  Entertainment               Audiobooks  \n",
       "93      Mountain View  01-12-2014  Entertainment                  Brewing  \n",
       "...               ...         ...            ...                      ...  \n",
       "121100    Middlefield         NaN  Manufacturing    Mobile Software Tools  \n",
       "121101    Middlefield         NaN  Manufacturing  New Product Development  \n",
       "121102    Middlefield         NaN  Manufacturing         New Technologies  \n",
       "121103    Middlefield         NaN  Manufacturing   Optical Communications  \n",
       "121104    Middlefield         NaN  Manufacturing                  Storage  \n",
       "\n",
       "[88483 rows x 16 columns]"
      ]
     },
     "execution_count": 99,
     "metadata": {},
     "output_type": "execute_result"
    }
   ],
   "source": [
    "master_frame3.dropna(how='all')     #drop row when all the row elements is null\n",
    "master_frame3 = master_frame3.dropna(subset=['raised_amount_usd'])       #drop row whose raised_amount_usd is 0\n",
    "master_frame3.dropna(how='all', axis=1) "
   ]
  },
  {
   "cell_type": "code",
   "execution_count": 100,
   "id": "5b9f6af5",
   "metadata": {},
   "outputs": [
    {
     "data": {
      "text/plain": [
       "(88483, 16)"
      ]
     },
     "execution_count": 100,
     "metadata": {},
     "output_type": "execute_result"
    }
   ],
   "source": [
    "master_frame3.shape\n"
   ]
  },
  {
   "cell_type": "code",
   "execution_count": 101,
   "id": "da40e7cd",
   "metadata": {},
   "outputs": [],
   "source": [
    "master_frame3=master_frame3.loc[master_frame3['funding_round_type'].isin(['venture', 'angel', 'private_equity','seed'])]\n"
   ]
  },
  {
   "cell_type": "code",
   "execution_count": 102,
   "id": "c7a3d7ac",
   "metadata": {},
   "outputs": [],
   "source": [
    "master_frame3=master_frame3.loc[master_frame3['funding_round_type'].isin(['venture'])]\n"
   ]
  },
  {
   "cell_type": "code",
   "execution_count": 103,
   "id": "2a28b002",
   "metadata": {},
   "outputs": [
    {
     "data": {
      "text/plain": [
       "(44927, 16)"
      ]
     },
     "execution_count": 103,
     "metadata": {},
     "output_type": "execute_result"
    }
   ],
   "source": [
    "master_frame3.shape\n"
   ]
  },
  {
   "cell_type": "code",
   "execution_count": 45,
   "id": "4010a4b2",
   "metadata": {},
   "outputs": [],
   "source": [
    "array = ['USA', 'FRA','CHN']\n",
    "master_frame3 = master_frame3.loc[master_frame3['country_code'].isin(array)]"
   ]
  },
  {
   "cell_type": "code",
   "execution_count": 46,
   "id": "16c18829",
   "metadata": {},
   "outputs": [
    {
     "data": {
      "text/plain": [
       "array(['USA', 'FRA', 'CHN'], dtype=object)"
      ]
     },
     "execution_count": 46,
     "metadata": {},
     "output_type": "execute_result"
    }
   ],
   "source": [
    "master_frame3.country_code.unique()\n"
   ]
  },
  {
   "cell_type": "code",
   "execution_count": 47,
   "id": "8e093f43",
   "metadata": {},
   "outputs": [
    {
     "data": {
      "text/plain": [
       "(34294, 16)"
      ]
     },
     "execution_count": 47,
     "metadata": {},
     "output_type": "execute_result"
    }
   ],
   "source": [
    "master_frame3.shape\n"
   ]
  },
  {
   "cell_type": "code",
   "execution_count": 48,
   "id": "b43fedcb",
   "metadata": {},
   "outputs": [
    {
     "data": {
      "text/plain": [
       "29799"
      ]
     },
     "execution_count": 48,
     "metadata": {},
     "output_type": "execute_result"
    }
   ],
   "source": [
    "master_frame3.loc[master_frame3[\"country_code\"] == \"USA\"].Company_Link.count()\n"
   ]
  },
  {
   "cell_type": "code",
   "execution_count": 49,
   "id": "bfadc551",
   "metadata": {},
   "outputs": [
    {
     "data": {
      "text/plain": [
       "1201"
      ]
     },
     "execution_count": 49,
     "metadata": {},
     "output_type": "execute_result"
    }
   ],
   "source": [
    "master_frame3.loc[master_frame3[\"country_code\"] == \"FRA\"].Company_Link.count()\n"
   ]
  },
  {
   "cell_type": "code",
   "execution_count": 50,
   "id": "aeced618",
   "metadata": {},
   "outputs": [
    {
     "data": {
      "text/plain": [
       "3294"
      ]
     },
     "execution_count": 50,
     "metadata": {},
     "output_type": "execute_result"
    }
   ],
   "source": [
    "master_frame3.loc[master_frame3[\"country_code\"] == \"CHN\"].Company_Link.count()\n"
   ]
  },
  {
   "cell_type": "code",
   "execution_count": 51,
   "id": "e2a7b24e",
   "metadata": {},
   "outputs": [
    {
     "data": {
      "text/plain": [
       "272385045129.0"
      ]
     },
     "execution_count": 51,
     "metadata": {},
     "output_type": "execute_result"
    }
   ],
   "source": [
    "master_frame3.loc[master_frame3[\"country_code\"] == \"USA\"].raised_amount_usd.sum()\n"
   ]
  },
  {
   "cell_type": "code",
   "execution_count": 52,
   "id": "2281185a",
   "metadata": {},
   "outputs": [
    {
     "data": {
      "text/plain": [
       "63213223662.0"
      ]
     },
     "execution_count": 52,
     "metadata": {},
     "output_type": "execute_result"
    }
   ],
   "source": [
    "master_frame3.loc[master_frame3[\"country_code\"] == \"FRA\"].raised_amount_usd.sum()\n"
   ]
  },
  {
   "cell_type": "code",
   "execution_count": 53,
   "id": "089865fb",
   "metadata": {},
   "outputs": [
    {
     "data": {
      "text/plain": [
       "54568836840.0"
      ]
     },
     "execution_count": 53,
     "metadata": {},
     "output_type": "execute_result"
    }
   ],
   "source": [
    "master_frame3.loc[master_frame3[\"country_code\"] == \"CHN\"].raised_amount_usd.sum()\n"
   ]
  },
  {
   "cell_type": "code",
   "execution_count": 54,
   "id": "c9b0ba2a",
   "metadata": {},
   "outputs": [
    {
     "data": {
      "text/plain": [
       "country_code  category     \n",
       "CHN           Manufacturing     2760\n",
       "              Entertainment      534\n",
       "FRA           Entertainment      801\n",
       "              Manufacturing      400\n",
       "USA           Manufacturing    19920\n",
       "              Entertainment     9879\n",
       "Name: category, dtype: int64"
      ]
     },
     "execution_count": 54,
     "metadata": {},
     "output_type": "execute_result"
    }
   ],
   "source": [
    "master_frame3.groupby('country_code')['category'].value_counts()\n"
   ]
  },
  {
   "cell_type": "code",
   "execution_count": 55,
   "id": "b58e5f0f",
   "metadata": {},
   "outputs": [
    {
     "data": {
      "text/plain": [
       "country_code\n",
       "CHN    160000000.0\n",
       "FRA    500000000.0\n",
       "USA    286000000.0\n",
       "Name: raised_amount_usd, dtype: float64"
      ]
     },
     "execution_count": 55,
     "metadata": {},
     "output_type": "execute_result"
    }
   ],
   "source": [
    "master_frame3.groupby('country_code')['raised_amount_usd'].max()\n"
   ]
  },
  {
   "cell_type": "code",
   "execution_count": null,
   "id": "c05162e3",
   "metadata": {},
   "outputs": [],
   "source": []
  }
 ],
 "metadata": {
  "kernelspec": {
   "display_name": "Python 3 (ipykernel)",
   "language": "python",
   "name": "python3"
  },
  "language_info": {
   "codemirror_mode": {
    "name": "ipython",
    "version": 3
   },
   "file_extension": ".py",
   "mimetype": "text/x-python",
   "name": "python",
   "nbconvert_exporter": "python",
   "pygments_lexer": "ipython3",
   "version": "3.9.12"
  }
 },
 "nbformat": 4,
 "nbformat_minor": 5
}
